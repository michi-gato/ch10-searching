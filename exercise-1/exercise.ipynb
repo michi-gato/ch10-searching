{
 "cells": [
  {
   "cell_type": "markdown",
   "metadata": {},
   "source": [
    "# Exercise 1\n",
    "Add the specified code for each code cell, running the cells _in order_."
   ]
  },
  {
   "cell_type": "markdown",
   "metadata": {},
   "source": [
    "Create a variable **`deck`** that represents a deck of [playing cards](https://en.wikipedia.org/wiki/Playing_card). This variable should be a _list_ of 52 elements, each of which is a **tuple** with two values:\n",
    "- a string representing the suit, either `'hearts'`, `'diamonds'`, `'clubs'`, or `'spades'`.\n",
    "- an interger representing the rank, ranging from 2 to 14 inclusive (11-14 represent a Jack, Queen, King, or Ace respectively).\n",
    "\n",
    "_Tip:_ use a pair of nested loops to add each combination of suit and rank to the `deck` list!"
   ]
  },
  {
   "cell_type": "code",
   "execution_count": 7,
   "metadata": {},
   "outputs": [],
   "source": [
    "deck = []\n",
    "for suit in ['hearts', 'diamonds', 'clubs', 'spades']:\n",
    "    for rank in range(2, 15):\n",
    "        deck.append({'suit' : suit, 'rank' : rank})\n",
    "    \n",
    "# print(deck)"
   ]
  },
  {
   "cell_type": "markdown",
   "metadata": {},
   "source": [
    "Create a list **hand** that represents a hand of [Poker](https://en.wikipedia.org/wiki/Poker) (5-card draw). Add 5 cards from the `deck` to this list.\n",
    "- You can add 5 specific cards for testing (check their indices!), or use the `random.shuffle()` function to shuffle the deck and then _slice_ 5 cards from the top.\n",
    "\n",
    "Print out the `hand` so you know what you are dealing with!"
   ]
  },
  {
   "cell_type": "code",
   "execution_count": 45,
   "metadata": {},
   "outputs": [],
   "source": [
    "import random\n",
    "random.shuffle(deck)\n",
    "hand = deck[:5] # slice to grab 5 cards randomly. slices are inclusive"
   ]
  },
  {
   "cell_type": "code",
   "execution_count": 46,
   "metadata": {},
   "outputs": [
    {
     "data": {
      "text/plain": [
       "[{'suit': 'spades', 'rank': 5},\n",
       " {'suit': 'spades', 'rank': 9},\n",
       " {'suit': 'clubs', 'rank': 8},\n",
       " {'suit': 'spades', 'rank': 2},\n",
       " {'suit': 'clubs', 'rank': 9}]"
      ]
     },
     "execution_count": 46,
     "metadata": {},
     "output_type": "execute_result"
    }
   ],
   "source": [
    "hand"
   ]
  },
  {
   "cell_type": "code",
   "execution_count": 47,
   "metadata": {},
   "outputs": [
    {
     "data": {
      "text/plain": [
       "52"
      ]
     },
     "execution_count": 47,
     "metadata": {},
     "output_type": "execute_result"
    }
   ],
   "source": [
    "len(hand) # doublec check how any cards in hand\n",
    "len(deck) # double check how many cards in deck"
   ]
  },
  {
   "cell_type": "markdown",
   "metadata": {},
   "source": [
    "Define a function **`contains_queen_of_hearts()`** that takes in a list of cards (e.g., a hand) and returns whether or not the Queen of Hearts is in that list. _For practice, don't use the `in` operator to check for containment_."
   ]
  },
  {
   "cell_type": "code",
   "execution_count": 48,
   "metadata": {},
   "outputs": [],
   "source": [
    "def contains_queen_of_hearts(hand): \n",
    "    for card in hand:\n",
    "        if card['suit'] == 'hearts' and card['rank'] == 12: \n",
    "            return True\n",
    "    return False"
   ]
  },
  {
   "cell_type": "code",
   "execution_count": 49,
   "metadata": {},
   "outputs": [
    {
     "data": {
      "text/plain": [
       "False"
      ]
     },
     "execution_count": 49,
     "metadata": {},
     "output_type": "execute_result"
    }
   ],
   "source": [
    "contains_queen_of_hearts(hand) # search within 5 cards"
   ]
  },
  {
   "cell_type": "code",
   "execution_count": 50,
   "metadata": {},
   "outputs": [
    {
     "data": {
      "text/plain": [
       "True"
      ]
     },
     "execution_count": 50,
     "metadata": {},
     "output_type": "execute_result"
    }
   ],
   "source": [
    "contains_queen_of_hearts(deck) # search within 52 cards"
   ]
  },
  {
   "cell_type": "markdown",
   "metadata": {},
   "source": [
    "Define a function **`get_high_card()`** that takes in a list of cards and returns the card (tuple) of the highest value. The \"high card\" is the one with the highest rank. Cards of different suits but the same rank are considered to have the same value and either may be returned.\n",
    "- Hint: use a \"king-of-the-hill\" search!"
   ]
  },
  {
   "cell_type": "code",
   "execution_count": 54,
   "metadata": {},
   "outputs": [],
   "source": [
    "def get_high_card(hand):\n",
    "    '''\n",
    "    Returns the card with the highest value\n",
    "    '''\n",
    "    high_card = hand[0]\n",
    "    for card in hand:\n",
    "        if card['rank'] > high_card['rank']:\n",
    "            high_card = card\n",
    "    return(high_card)"
   ]
  },
  {
   "cell_type": "code",
   "execution_count": 55,
   "metadata": {},
   "outputs": [
    {
     "data": {
      "text/plain": [
       "{'suit': 'spades', 'rank': 9}"
      ]
     },
     "execution_count": 55,
     "metadata": {},
     "output_type": "execute_result"
    }
   ],
   "source": [
    "get_high_card(hand)"
   ]
  },
  {
   "cell_type": "code",
   "execution_count": 56,
   "metadata": {},
   "outputs": [
    {
     "data": {
      "text/plain": [
       "{'suit': 'hearts', 'rank': 14}"
      ]
     },
     "execution_count": 56,
     "metadata": {},
     "output_type": "execute_result"
    }
   ],
   "source": [
    "get_high_card(deck)"
   ]
  },
  {
   "cell_type": "markdown",
   "metadata": {},
   "source": [
    "Define a function **`is_flush()`** that takes in a list of cards and returns whether or not the list represents a _flush_&mdash;that is, all of the cards have the same _suit_."
   ]
  },
  {
   "cell_type": "code",
   "execution_count": 59,
   "metadata": {},
   "outputs": [],
   "source": [
    "def is_flush(hand):\n",
    "    suit = hand[0]['suit']\n",
    "    for card in hand:\n",
    "        if card['suit'] != suit:\n",
    "            return False\n",
    "        else:\n",
    "            return True"
   ]
  },
  {
   "cell_type": "markdown",
   "metadata": {},
   "source": [
    "_Challenge_: Define a functon **`has_pair()`** that takes in a list of cards and returns whether or not there is at least one _pair_ (two cards with the same _rank_) in the list.\n",
    "\n",
    "_Bonus challenge:_ Return the rank of the pair of cards with the highest rank (e.g., if there is more than one pair!) "
   ]
  },
  {
   "cell_type": "code",
   "execution_count": null,
   "metadata": {},
   "outputs": [],
   "source": []
  }
 ],
 "metadata": {
  "kernelspec": {
   "display_name": "Python 3",
   "language": "python",
   "name": "python3"
  },
  "language_info": {
   "codemirror_mode": {
    "name": "ipython",
    "version": 3
   },
   "file_extension": ".py",
   "mimetype": "text/x-python",
   "name": "python",
   "nbconvert_exporter": "python",
   "pygments_lexer": "ipython3",
   "version": "3.7.3"
  },
  "toc": {
   "colors": {
    "hover_highlight": "#DAA520",
    "running_highlight": "#FF0000",
    "selected_highlight": "#FFD700"
   },
   "moveMenuLeft": true,
   "nav_menu": {
    "height": "30px",
    "width": "252px"
   },
   "navigate_menu": true,
   "number_sections": true,
   "sideBar": true,
   "threshold": 4,
   "toc_cell": false,
   "toc_section_display": "block",
   "toc_window_display": false,
   "widenNotebook": false
  }
 },
 "nbformat": 4,
 "nbformat_minor": 2
}
